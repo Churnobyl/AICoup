{
 "cells": [
  {
   "cell_type": "code",
   "execution_count": 21,
   "metadata": {},
   "outputs": [],
   "source": [
    "import math\n",
    "import sys\n",
    "import random\n",
    "import numpy as np\n",
    "import matplotlib.pyplot as plt"
   ]
  },
  {
   "cell_type": "code",
   "execution_count": 22,
   "metadata": {},
   "outputs": [],
   "source": [
    "N = 3\n",
    "N += 1"
   ]
  },
  {
   "cell_type": "code",
   "execution_count": 23,
   "metadata": {},
   "outputs": [],
   "source": [
    "images = [\n",
    "    {\n",
    "      \"image\": 1,\n",
    "      \"detections\": [\n",
    "        {\n",
    "          \"class_id\": 4,\n",
    "          \"x\": 0.37812501192092896,\n",
    "          \"y\": 0.6864583492279053,\n",
    "          \"width\": 0.08437500149011612,\n",
    "          \"height\": 0.18125000596046448,\n",
    "          \"confidence\": 0.6846325397491455\n",
    "        },\n",
    "        {\n",
    "          \"class_id\": 3,\n",
    "          \"x\": 0.5953124761581421,\n",
    "          \"y\": 0.7437499761581421,\n",
    "          \"width\": 0.09062500298023224,\n",
    "          \"height\": 0.1666666716337204,\n",
    "          \"confidence\": 0.7737794518470764\n",
    "        },\n",
    "        {\n",
    "          \"class_id\": 1,\n",
    "          \"x\": 0.40703123807907104,\n",
    "          \"y\": 0.37291666865348816,\n",
    "          \"width\": 0.07343749701976776,\n",
    "          \"height\": 0.13333334028720856,\n",
    "          \"confidence\": 0.8370771408081055\n",
    "        },\n",
    "        {\n",
    "          \"class_id\": 2,\n",
    "          \"x\": 0.5101562738418579,\n",
    "          \"y\": 0.7447916865348816,\n",
    "          \"width\": 0.08906249701976776,\n",
    "          \"height\": 0.18541666865348816,\n",
    "          \"confidence\": 0.8590912818908691\n",
    "        },\n",
    "        {\n",
    "          \"class_id\": 1,\n",
    "          \"x\": 0.2945312559604645,\n",
    "          \"y\": 0.6666666865348816,\n",
    "          \"width\": 0.08281250298023224,\n",
    "          \"height\": 0.1458333283662796,\n",
    "          \"confidence\": 0.9108979105949402\n",
    "        }\n",
    "      ]\n",
    "    },\n",
    "    {\n",
    "      \"image\": 2,\n",
    "      \"detections\": [\n",
    "        {\n",
    "          \"class_id\": 4,\n",
    "          \"x\": 0.3804687559604645,\n",
    "          \"y\": 0.684374988079071,\n",
    "          \"width\": 0.08281250298023224,\n",
    "          \"height\": 0.17291666567325592,\n",
    "          \"confidence\": 0.3524661958217621\n",
    "        },\n",
    "        {\n",
    "          \"class_id\": 3,\n",
    "          \"x\": 0.596875011920929,\n",
    "          \"y\": 0.746874988079071,\n",
    "          \"width\": 0.08749999850988388,\n",
    "          \"height\": 0.16875000298023224,\n",
    "          \"confidence\": 0.6998907923698425\n",
    "        },\n",
    "        {\n",
    "          \"class_id\": 2,\n",
    "          \"x\": 0.5101562738418579,\n",
    "          \"y\": 0.7583333253860474,\n",
    "          \"width\": 0.0859375,\n",
    "          \"height\": 0.22083333134651184,\n",
    "          \"confidence\": 0.7339903116226196\n",
    "        },\n",
    "        {\n",
    "          \"class_id\": 0,\n",
    "          \"x\": 0.3382812440395355,\n",
    "          \"y\": 0.3635416626930237,\n",
    "          \"width\": 0.07343749701976776,\n",
    "          \"height\": 0.13958333432674408,\n",
    "          \"confidence\": 0.7976427674293518\n",
    "        },\n",
    "        {\n",
    "          \"class_id\": 1,\n",
    "          \"x\": 0.40546876192092896,\n",
    "          \"y\": 0.37291666865348816,\n",
    "          \"width\": 0.07343749701976776,\n",
    "          \"height\": 0.13333334028720856,\n",
    "          \"confidence\": 0.9070711135864258\n",
    "        },\n",
    "        {\n",
    "          \"class_id\": 1,\n",
    "          \"x\": 0.29609376192092896,\n",
    "          \"y\": 0.671875,\n",
    "          \"width\": 0.07968749850988388,\n",
    "          \"height\": 0.14791665971279144,\n",
    "          \"confidence\": 0.9220471382141113\n",
    "        }\n",
    "      ]\n",
    "    },\n",
    "    {\n",
    "      \"image\": 3,\n",
    "      \"detections\": [\n",
    "        {\n",
    "          \"class_id\": 4,\n",
    "          \"x\": 0.3851562440395355,\n",
    "          \"y\": 0.699999988079071,\n",
    "          \"width\": 0.08906249701976776,\n",
    "          \"height\": 0.19166666269302368,\n",
    "          \"confidence\": 0.6211552023887634\n",
    "        },\n",
    "        {\n",
    "          \"class_id\": 3,\n",
    "          \"x\": 0.5953124761581421,\n",
    "          \"y\": 0.7447916865348816,\n",
    "          \"width\": 0.08749999850988388,\n",
    "          \"height\": 0.16875000298023224,\n",
    "          \"confidence\": 0.741838812828064\n",
    "        },\n",
    "        {\n",
    "          \"class_id\": 0,\n",
    "          \"x\": 0.34296876192092896,\n",
    "          \"y\": 0.3635416626930237,\n",
    "          \"width\": 0.07343749701976776,\n",
    "          \"height\": 0.13958333432674408,\n",
    "          \"confidence\": 0.8085684180259705\n",
    "        },\n",
    "        {\n",
    "          \"class_id\": 2,\n",
    "          \"x\": 0.5101562738418579,\n",
    "          \"y\": 0.746874988079071,\n",
    "          \"width\": 0.0859375,\n",
    "          \"height\": 0.1979166716337204,\n",
    "          \"confidence\": 0.8277846574783325\n",
    "        },\n",
    "        {\n",
    "          \"class_id\": 1,\n",
    "          \"x\": 0.40703123807907104,\n",
    "          \"y\": 0.37291666865348816,\n",
    "          \"width\": 0.07343749701976776,\n",
    "          \"height\": 0.13333334028720856,\n",
    "          \"confidence\": 0.8830307126045227\n",
    "        },\n",
    "        {\n",
    "          \"class_id\": 1,\n",
    "          \"x\": 0.30156248807907104,\n",
    "          \"y\": 0.6760416626930237,\n",
    "          \"width\": 0.078125,\n",
    "          \"height\": 0.14791665971279144,\n",
    "          \"confidence\": 0.9246500134468079\n",
    "        }\n",
    "      ]\n",
    "    }\n",
    "  ]"
   ]
  },
  {
   "cell_type": "code",
   "execution_count": 24,
   "metadata": {},
   "outputs": [],
   "source": [
    "def calDistPoint(pos1, pos2):\n",
    "    return math.sqrt((pos1[0] - pos2[0])**2 + (pos1[1] - pos2[1])**2)"
   ]
  },
  {
   "cell_type": "code",
   "execution_count": 25,
   "metadata": {},
   "outputs": [
    {
     "data": {
      "text/plain": [
       "[[{'class_id': 4,\n",
       "   'x': 0.37812501192092896,\n",
       "   'y': 0.6864583492279053,\n",
       "   'width': 0.08437500149011612,\n",
       "   'height': 0.18125000596046448,\n",
       "   'confidence': 0.6846325397491455},\n",
       "  {'class_id': 3,\n",
       "   'x': 0.5953124761581421,\n",
       "   'y': 0.7437499761581421,\n",
       "   'width': 0.09062500298023224,\n",
       "   'height': 0.1666666716337204,\n",
       "   'confidence': 0.7737794518470764},\n",
       "  {'class_id': 1,\n",
       "   'x': 0.40703123807907104,\n",
       "   'y': 0.37291666865348816,\n",
       "   'width': 0.07343749701976776,\n",
       "   'height': 0.13333334028720856,\n",
       "   'confidence': 0.8370771408081055},\n",
       "  {'class_id': 2,\n",
       "   'x': 0.5101562738418579,\n",
       "   'y': 0.7447916865348816,\n",
       "   'width': 0.08906249701976776,\n",
       "   'height': 0.18541666865348816,\n",
       "   'confidence': 0.8590912818908691},\n",
       "  {'class_id': 1,\n",
       "   'x': 0.2945312559604645,\n",
       "   'y': 0.6666666865348816,\n",
       "   'width': 0.08281250298023224,\n",
       "   'height': 0.1458333283662796,\n",
       "   'confidence': 0.9108979105949402}],\n",
       " [{'class_id': 4,\n",
       "   'x': 0.3804687559604645,\n",
       "   'y': 0.684374988079071,\n",
       "   'width': 0.08281250298023224,\n",
       "   'height': 0.17291666567325592,\n",
       "   'confidence': 0.3524661958217621},\n",
       "  {'class_id': 3,\n",
       "   'x': 0.596875011920929,\n",
       "   'y': 0.746874988079071,\n",
       "   'width': 0.08749999850988388,\n",
       "   'height': 0.16875000298023224,\n",
       "   'confidence': 0.6998907923698425},\n",
       "  {'class_id': 2,\n",
       "   'x': 0.5101562738418579,\n",
       "   'y': 0.7583333253860474,\n",
       "   'width': 0.0859375,\n",
       "   'height': 0.22083333134651184,\n",
       "   'confidence': 0.7339903116226196},\n",
       "  {'class_id': 0,\n",
       "   'x': 0.3382812440395355,\n",
       "   'y': 0.3635416626930237,\n",
       "   'width': 0.07343749701976776,\n",
       "   'height': 0.13958333432674408,\n",
       "   'confidence': 0.7976427674293518},\n",
       "  {'class_id': 1,\n",
       "   'x': 0.40546876192092896,\n",
       "   'y': 0.37291666865348816,\n",
       "   'width': 0.07343749701976776,\n",
       "   'height': 0.13333334028720856,\n",
       "   'confidence': 0.9070711135864258},\n",
       "  {'class_id': 1,\n",
       "   'x': 0.29609376192092896,\n",
       "   'y': 0.671875,\n",
       "   'width': 0.07968749850988388,\n",
       "   'height': 0.14791665971279144,\n",
       "   'confidence': 0.9220471382141113}],\n",
       " [{'class_id': 4,\n",
       "   'x': 0.3851562440395355,\n",
       "   'y': 0.699999988079071,\n",
       "   'width': 0.08906249701976776,\n",
       "   'height': 0.19166666269302368,\n",
       "   'confidence': 0.6211552023887634},\n",
       "  {'class_id': 3,\n",
       "   'x': 0.5953124761581421,\n",
       "   'y': 0.7447916865348816,\n",
       "   'width': 0.08749999850988388,\n",
       "   'height': 0.16875000298023224,\n",
       "   'confidence': 0.741838812828064},\n",
       "  {'class_id': 0,\n",
       "   'x': 0.34296876192092896,\n",
       "   'y': 0.3635416626930237,\n",
       "   'width': 0.07343749701976776,\n",
       "   'height': 0.13958333432674408,\n",
       "   'confidence': 0.8085684180259705},\n",
       "  {'class_id': 2,\n",
       "   'x': 0.5101562738418579,\n",
       "   'y': 0.746874988079071,\n",
       "   'width': 0.0859375,\n",
       "   'height': 0.1979166716337204,\n",
       "   'confidence': 0.8277846574783325},\n",
       "  {'class_id': 1,\n",
       "   'x': 0.40703123807907104,\n",
       "   'y': 0.37291666865348816,\n",
       "   'width': 0.07343749701976776,\n",
       "   'height': 0.13333334028720856,\n",
       "   'confidence': 0.8830307126045227},\n",
       "  {'class_id': 1,\n",
       "   'x': 0.30156248807907104,\n",
       "   'y': 0.6760416626930237,\n",
       "   'width': 0.078125,\n",
       "   'height': 0.14791665971279144,\n",
       "   'confidence': 0.9246500134468079}]]"
      ]
     },
     "execution_count": 25,
     "metadata": {},
     "output_type": "execute_result"
    }
   ],
   "source": [
    "data = [ info['detections'] for info in images]\n",
    "data"
   ]
  },
  {
   "cell_type": "code",
   "execution_count": 26,
   "metadata": {},
   "outputs": [
    {
     "data": {
      "text/plain": [
       "(0.0, 1.0, 0.0, 1.0)"
      ]
     },
     "execution_count": 26,
     "metadata": {},
     "output_type": "execute_result"
    },
    {
     "data": {
      "image/png": "[encoded data removed]",
      "text/plain": [
       "<Figure size 640x480 with 1 Axes>"
      ]
     },
     "metadata": {},
     "output_type": "display_data"
    }
   ],
   "source": [
    "for imagelabels in data:\n",
    "    plt.plot([label['x'] for label in imagelabels], [label['y'] for label in imagelabels], 'o')\n",
    "plt.axis((0, 1, 0, 1))"
   ]
  },
  {
   "cell_type": "code",
   "execution_count": 27,
   "metadata": {},
   "outputs": [
    {
     "data": {
      "text/plain": [
       "[{'class_id': 4,\n",
       "  'x': 0.3851562440395355,\n",
       "  'y': 0.699999988079071,\n",
       "  'width': 0.08906249701976776,\n",
       "  'height': 0.19166666269302368,\n",
       "  'confidence': 0.6211552023887634},\n",
       " {'class_id': 3,\n",
       "  'x': 0.5953124761581421,\n",
       "  'y': 0.7447916865348816,\n",
       "  'width': 0.08749999850988388,\n",
       "  'height': 0.16875000298023224,\n",
       "  'confidence': 0.741838812828064},\n",
       " {'class_id': 0,\n",
       "  'x': 0.34296876192092896,\n",
       "  'y': 0.3635416626930237,\n",
       "  'width': 0.07343749701976776,\n",
       "  'height': 0.13958333432674408,\n",
       "  'confidence': 0.8085684180259705},\n",
       " {'class_id': 2,\n",
       "  'x': 0.5101562738418579,\n",
       "  'y': 0.746874988079071,\n",
       "  'width': 0.0859375,\n",
       "  'height': 0.1979166716337204,\n",
       "  'confidence': 0.8277846574783325},\n",
       " {'class_id': 1,\n",
       "  'x': 0.40703123807907104,\n",
       "  'y': 0.37291666865348816,\n",
       "  'width': 0.07343749701976776,\n",
       "  'height': 0.13333334028720856,\n",
       "  'confidence': 0.8830307126045227},\n",
       " {'class_id': 1,\n",
       "  'x': 0.30156248807907104,\n",
       "  'y': 0.6760416626930237,\n",
       "  'width': 0.078125,\n",
       "  'height': 0.14791665971279144,\n",
       "  'confidence': 0.9246500134468079},\n",
       " {'class_id': 4,\n",
       "  'x': 0.5000125738418579,\n",
       "  'y': 0.5000000423518579,\n",
       "  'width': 0.08749999850988388,\n",
       "  'height': 0.16875000298023224,\n",
       "  'confidence': 0.741838812828064}]"
      ]
     },
     "execution_count": 27,
     "metadata": {},
     "output_type": "execute_result"
    }
   ],
   "source": [
    "data_x = data[2]\n",
    "data_x.append({\n",
    "    'class_id': 4,\n",
    "    'x': 0.5000125738418579,\n",
    "    'y': 0.5000000423518579,\n",
    "    'width': 0.08749999850988388,\n",
    "    'height': 0.16875000298023224,\n",
    "    'confidence': 0.741838812828064\n",
    "})\n",
    "data_x"
   ]
  },
  {
   "cell_type": "code",
   "execution_count": 28,
   "metadata": {},
   "outputs": [
    {
     "data": {
      "text/plain": [
       "{0: {'center': (0.3851562440395355, 0.699999988079071), 'cluster': -1},\n",
       " 1: {'center': (0.5953124761581421, 0.7447916865348816), 'cluster': -1},\n",
       " 2: {'center': (0.34296876192092896, 0.3635416626930237), 'cluster': -1},\n",
       " 3: {'center': (0.5101562738418579, 0.746874988079071), 'cluster': -1},\n",
       " 4: {'center': (0.40703123807907104, 0.37291666865348816), 'cluster': -1},\n",
       " 5: {'center': (0.30156248807907104, 0.6760416626930237), 'cluster': -1},\n",
       " 6: {'center': (0.5000125738418579, 0.5000000423518579), 'cluster': -1}}"
      ]
     },
     "execution_count": 28,
     "metadata": {},
     "output_type": "execute_result"
    }
   ],
   "source": [
    "poses = dict(enumerate([{\"center\": (i['x'], i['y']), \"cluster\": -1} for i in data_x]))\n",
    "poses"
   ]
  },
  {
   "cell_type": "code",
   "execution_count": 29,
   "metadata": {},
   "outputs": [
    {
     "data": {
      "text/plain": [
       "{0: {'center': (0.5466738503951126, 0.8912666372643308), 'points': []},\n",
       " 1: {'center': (0.1951857844064805, 0.22475341830179274), 'points': []},\n",
       " 2: {'center': (0.3363875925272978, 0.8557998516413419), 'points': []},\n",
       " 3: {'center': (0.2254687397389623, 0.027563140162152333), 'points': []}}"
      ]
     },
     "execution_count": 29,
     "metadata": {},
     "output_type": "execute_result"
    }
   ],
   "source": [
    "clusters = dict()\n",
    "meansPoses = [\n",
    "    (random.uniform(0, 1), random.uniform(0, 1)) for _ in range(N)\n",
    "]\n",
    "# init clusters\n",
    "for idx in range(N):\n",
    "    cluster = {\n",
    "        'center': (random.uniform(0, 1), random.uniform(0, 1)),\n",
    "        'points': []\n",
    "    }\n",
    "    clusters[idx] = cluster\n",
    "clusters"
   ]
  },
  {
   "cell_type": "code",
   "execution_count": 30,
   "metadata": {},
   "outputs": [
    {
     "data": {
      "text/plain": [
       "{0: {'center': (0.5000125738418579, 0.5000000423518579), 'points': []},\n",
       " 1: {'center': (0.30156248807907104, 0.6760416626930237), 'points': []},\n",
       " 2: {'center': (0.5953124761581421, 0.7447916865348816), 'points': []},\n",
       " 3: {'center': (0.34296876192092896, 0.3635416626930237), 'points': []}}"
      ]
     },
     "execution_count": 30,
     "metadata": {},
     "output_type": "execute_result"
    }
   ],
   "source": [
    "# k means++ intializing\n",
    "clusters = dict()\n",
    "clusters[0] = {\n",
    "    \"center\": random.choice(poses)['center'],\n",
    "    'points': []\n",
    "}\n",
    "\n",
    "for idx in range(1, N):\n",
    "    # print(f'{idx=}')\n",
    "    dist = dict()\n",
    "\n",
    "    for i in poses:\n",
    "        point = poses[i]\n",
    "        d = sys.maxsize\n",
    "\n",
    "        for j in clusters:\n",
    "            # print(f'{clusters[j][\"center\"]=}')\n",
    "            temp_dist = calDistPoint(point['center'], clusters[j]['center'])\n",
    "            d = min(d, temp_dist)\n",
    "        # print(f'{d=}')\n",
    "        dist[i] = d\n",
    "\n",
    "    # TODO: find second max\n",
    "    # print(f'{dist=}')\n",
    "    max_dist_point = max(dist, key=dist.get)\n",
    "    clusters[idx] = {\n",
    "        'center': poses[max_dist_point]['center'],\n",
    "        'points': []\n",
    "    }\n",
    "clusters"
   ]
  },
  {
   "cell_type": "code",
   "execution_count": 31,
   "metadata": {},
   "outputs": [
    {
     "data": {
      "text/plain": [
       "(0.0, 1.0, 0.0, 1.0)"
      ]
     },
     "execution_count": 31,
     "metadata": {},
     "output_type": "execute_result"
    },
    {
     "data": {
      "image/png": "[encoded data removed]",
      "text/plain": [
       "<Figure size 640x480 with 1 Axes>"
      ]
     },
     "metadata": {},
     "output_type": "display_data"
    }
   ],
   "source": [
    "for label in data_x:\n",
    "    plt.plot(label['x'], label['y'], 'bo')\n",
    "plt.plot([clusters[k][\"center\"][0] for k in clusters], [clusters[k][\"center\"][1] for k in clusters], 'rs')\n",
    "plt.axis((0, 1, 0, 1))"
   ]
  },
  {
   "cell_type": "code",
   "execution_count": 32,
   "metadata": {},
   "outputs": [],
   "source": [
    "#Implementing E step \n",
    "def assign_clusters(X, clusters):\n",
    "    for idx in range(len(X)):\n",
    "        dist = []\n",
    "         \n",
    "        curr_point = X[idx]\n",
    "        for i in range(N):\n",
    "            dis = calDistPoint(curr_point['center'], clusters[i]['center'])\n",
    "            dist.append((i, dis))\n",
    "        # curr_cluster = np.argmin(dist)\n",
    "        curr_cluster = min(dist, key=lambda x: x[1])[0]\n",
    "        clusters[curr_cluster]['points'].append(curr_point)\n",
    "    return clusters"
   ]
  },
  {
   "cell_type": "code",
   "execution_count": 33,
   "metadata": {},
   "outputs": [],
   "source": [
    "#Implementing the M-Step\n",
    "def update_clusters(X, clusters):\n",
    "    for i in range(N):\n",
    "        # print([points['center'] for points in clusters[i]['points']])\n",
    "        points = np.array([[points['center'][0], points['center'][1]] for points in clusters[i]['points']])\n",
    "        # print(points)\n",
    "        if len(points) > 0:\n",
    "            new_center = list(points.mean(axis =0))\n",
    "            print(f'{clusters[i][\"center\"]=}')\n",
    "            clusters[i]['center'] = new_center\n",
    "            print(f'{new_center=}')\n",
    "             \n",
    "            clusters[i]['points'] = []\n",
    "    return clusters"
   ]
  },
  {
   "cell_type": "code",
   "execution_count": 34,
   "metadata": {},
   "outputs": [],
   "source": [
    "def pred_cluster(X, clusters):\n",
    "    pred = []\n",
    "    for i in range(len(X)):\n",
    "        dist = []\n",
    "        for j in range(N):\n",
    "            dist.append(calDistPoint(X[i]['center'],clusters[j]['center']))\n",
    "        pred.append(np.argmin(dist))\n",
    "    return pred"
   ]
  },
  {
   "cell_type": "code",
   "execution_count": 35,
   "metadata": {},
   "outputs": [
    {
     "data": {
      "text/plain": [
       "(0.0, 1.0, 0.0, 1.0)"
      ]
     },
     "execution_count": 35,
     "metadata": {},
     "output_type": "execute_result"
    },
    {
     "data": {
      "image/png": "[encoded data removed]",
      "text/plain": [
       "<Figure size 640x480 with 1 Axes>"
      ]
     },
     "metadata": {},
     "output_type": "display_data"
    }
   ],
   "source": [
    "for label in data_x:\n",
    "    plt.plot(label['x'], label['y'], 'bo')\n",
    "plt.plot([clusters[k][\"center\"][0] for k in clusters], [clusters[k][\"center\"][1] for k in clusters], 'ro')\n",
    "plt.axis((0, 1, 0, 1))"
   ]
  },
  {
   "cell_type": "code",
   "execution_count": 38,
   "metadata": {},
   "outputs": [
    {
     "name": "stdout",
     "output_type": "stream",
     "text": [
      "clusters[i][\"center\"]=[0.5000125738418579, 0.5000000423518579]\n",
      "new_center=[0.5000125738418579, 0.5000000423518579]\n",
      "clusters[i][\"center\"]=[0.3433593660593033, 0.6880208253860474]\n",
      "new_center=[0.3433593660593033, 0.6880208253860474]\n",
      "clusters[i][\"center\"]=[0.552734375, 0.7458333373069763]\n",
      "new_center=[0.552734375, 0.7458333373069763]\n",
      "clusters[i][\"center\"]=[0.375, 0.3682291656732559]\n",
      "new_center=[0.375, 0.3682291656732559]\n"
     ]
    },
    {
     "data": {
      "text/plain": [
       "[1, 2, 3, 2, 3, 1, 0]"
      ]
     },
     "execution_count": 38,
     "metadata": {},
     "output_type": "execute_result"
    }
   ],
   "source": [
    "clusters = assign_clusters(poses,clusters)\n",
    "clusters = update_clusters(poses,clusters)\n",
    "pred = pred_cluster(poses,clusters)\n",
    "pred"
   ]
  },
  {
   "cell_type": "code",
   "execution_count": 39,
   "metadata": {},
   "outputs": [
    {
     "data": {
      "text/plain": [
       "(0.0, 1.0, 0.0, 1.0)"
      ]
     },
     "execution_count": 39,
     "metadata": {},
     "output_type": "execute_result"
    },
    {
     "data": {
      "image/png": "[encoded data removed]",
      "text/plain": [
       "<Figure size 640x480 with 1 Axes>"
      ]
     },
     "metadata": {},
     "output_type": "display_data"
    }
   ],
   "source": [
    "for label in data_x:\n",
    "    plt.plot(label['x'], label['y'], 'bo')\n",
    "plt.plot([clusters[k][\"center\"][0] for k in clusters], [clusters[k][\"center\"][1] for k in clusters], 'ro')\n",
    "plt.axis((0, 1, 0, 1))"
   ]
  },
  {
   "cell_type": "code",
   "execution_count": null,
   "metadata": {},
   "outputs": [],
   "source": []
  }
 ],
 "metadata": {
  "kernelspec": {
   "display_name": "Python 3",
   "language": "python",
   "name": "python3"
  },
  "language_info": {
   "codemirror_mode": {
    "name": "ipython",
    "version": 3
   },
   "file_extension": ".py",
   "mimetype": "text/x-python",
   "name": "python",
   "nbconvert_exporter": "python",
   "pygments_lexer": "ipython3",
   "version": "3.10.11"
  }
 },
 "nbformat": 4,
 "nbformat_minor": 2
}
