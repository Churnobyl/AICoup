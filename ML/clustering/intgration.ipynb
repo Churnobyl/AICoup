{
 "cells": [
  {
   "cell_type": "code",
   "execution_count": 135,
   "metadata": {},
   "outputs": [],
   "source": [
    "import math\n",
    "import sys\n",
    "import random\n",
    "import numpy as np\n",
    "import matplotlib.pyplot as plt\n",
    "\n",
    "from clustering_util import *"
   ]
  },
  {
   "cell_type": "code",
   "execution_count": 136,
   "metadata": {},
   "outputs": [],
   "source": [
    "gameStatus = {\n",
    "    \"player_num\": 4\n",
    "}"
   ]
  },
  {
   "cell_type": "code",
   "execution_count": 137,
   "metadata": {},
   "outputs": [],
   "source": [
    "N = gameStatus[\"player_num\"]\n",
    "N += 1"
   ]
  },
  {
   "cell_type": "code",
   "execution_count": 231,
   "metadata": {},
   "outputs": [],
   "source": [
    "# 초기 prediction value(input, entry)\n",
    "## image 중 뭐쓸지에 대한 부분 생략\n",
    "inferResult = [\n",
    "  {\n",
    "    \"image\": 3,\n",
    "    \"detections\": [\n",
    "      {\n",
    "        \"class_id\": 7,\n",
    "        \"x\": 0.7947916388511658,\n",
    "        \"y\": 0.14444445073604584,\n",
    "        \"width\": 0.03854166716337204,\n",
    "        \"height\": 0.06666667014360428,\n",
    "        \"confidence\": 0.32275763154029846\n",
    "      },\n",
    "      {\n",
    "        \"class_id\": 4,\n",
    "        \"x\": 0.5067708492279053,\n",
    "        \"y\": 0.1476851850748062,\n",
    "        \"width\": 0.09791667014360428,\n",
    "        \"height\": 0.24166665971279144,\n",
    "        \"confidence\": 0.34223493933677673\n",
    "      },\n",
    "      {\n",
    "        \"class_id\": 1,\n",
    "        \"x\": 0.9361979365348816,\n",
    "        \"y\": 0.49768519401550293,\n",
    "        \"width\": 0.12552084028720856,\n",
    "        \"height\": 0.19907407462596893,\n",
    "        \"confidence\": 0.3444693982601166\n",
    "      },\n",
    "      {\n",
    "        \"class_id\": 7,\n",
    "        \"x\": 0.5580729246139526,\n",
    "        \"y\": 0.46990740299224854,\n",
    "        \"width\": 0.04010416567325592,\n",
    "        \"height\": 0.07314814627170563,\n",
    "        \"confidence\": 0.3957807719707489\n",
    "      },\n",
    "      {\n",
    "        \"class_id\": 7,\n",
    "        \"x\": 0.5768229365348816,\n",
    "        \"y\": 0.5532407164573669,\n",
    "        \"width\": 0.0390625,\n",
    "        \"height\": 0.06759259104728699,\n",
    "        \"confidence\": 0.440804660320282\n",
    "      },\n",
    "      {\n",
    "        \"class_id\": 7,\n",
    "        \"x\": 0.2575520873069763,\n",
    "        \"y\": 0.5527777671813965,\n",
    "        \"width\": 0.04218750074505806,\n",
    "        \"height\": 0.06481481343507767,\n",
    "        \"confidence\": 0.4477238953113556\n",
    "      },\n",
    "      {\n",
    "        \"class_id\": 7,\n",
    "        \"x\": 0.6872395873069763,\n",
    "        \"y\": 0.5231481194496155,\n",
    "        \"width\": 0.04114583507180214,\n",
    "        \"height\": 0.07037036865949631,\n",
    "        \"confidence\": 0.4954095780849457\n",
    "      },\n",
    "      {\n",
    "        \"class_id\": 7,\n",
    "        \"x\": 0.7825520634651184,\n",
    "        \"y\": 0.2222222238779068,\n",
    "        \"width\": 0.0390625,\n",
    "        \"height\": 0.06851851940155029,\n",
    "        \"confidence\": 0.5343185067176819\n",
    "      },\n",
    "      {\n",
    "        \"class_id\": 7,\n",
    "        \"x\": 0.8098958134651184,\n",
    "        \"y\": 0.8217592835426331,\n",
    "        \"width\": 0.03750000149011612,\n",
    "        \"height\": 0.0694444477558136,\n",
    "        \"confidence\": 0.5493181347846985\n",
    "      },\n",
    "      {\n",
    "        \"class_id\": 7,\n",
    "        \"x\": 0.6377604007720947,\n",
    "        \"y\": 0.9324073791503906,\n",
    "        \"width\": 0.03802083432674408,\n",
    "        \"height\": 0.06296296417713165,\n",
    "        \"confidence\": 0.5763859152793884\n",
    "      },\n",
    "      {\n",
    "        \"class_id\": 7,\n",
    "        \"x\": 0.81640625,\n",
    "        \"y\": 0.7472222447395325,\n",
    "        \"width\": 0.03802083432674408,\n",
    "        \"height\": 0.07037036865949631,\n",
    "        \"confidence\": 0.6600546836853027\n",
    "      },\n",
    "      {\n",
    "        \"class_id\": 6,\n",
    "        \"x\": 0.2421875,\n",
    "        \"y\": 0.6162037253379822,\n",
    "        \"width\": 0.03750000149011612,\n",
    "        \"height\": 0.06759259104728699,\n",
    "        \"confidence\": 0.788050651550293\n",
    "      },\n",
    "      {\n",
    "        \"class_id\": 4,\n",
    "        \"x\": 0.11666666716337204,\n",
    "        \"y\": 0.5273148417472839,\n",
    "        \"width\": 0.14374999701976776,\n",
    "        \"height\": 0.18425926566123962,\n",
    "        \"confidence\": 0.8004319071769714\n",
    "      },\n",
    "      {\n",
    "        \"class_id\": 7,\n",
    "        \"x\": 0.33645832538604736,\n",
    "        \"y\": 0.3194444477558136,\n",
    "        \"width\": 0.03958333283662796,\n",
    "        \"height\": 0.06851851940155029,\n",
    "        \"confidence\": 0.8318278789520264\n",
    "      },\n",
    "      {\n",
    "        \"class_id\": 7,\n",
    "        \"x\": 0.3307291567325592,\n",
    "        \"y\": 0.4078703820705414,\n",
    "        \"width\": 0.04062499850988388,\n",
    "        \"height\": 0.07129629701375961,\n",
    "        \"confidence\": 0.8338828682899475\n",
    "      },\n",
    "      {\n",
    "        \"class_id\": 1,\n",
    "        \"x\": 0.507031261920929,\n",
    "        \"y\": 0.14861111342906952,\n",
    "        \"width\": 0.09739582985639572,\n",
    "        \"height\": 0.23981481790542603,\n",
    "        \"confidence\": 0.8698679208755493\n",
    "      },\n",
    "      {\n",
    "        \"class_id\": 7,\n",
    "        \"x\": 0.2971354126930237,\n",
    "        \"y\": 0.33287036418914795,\n",
    "        \"width\": 0.04010416567325592,\n",
    "        \"height\": 0.0694444477558136,\n",
    "        \"confidence\": 0.8730878233909607\n",
    "      },\n",
    "      {\n",
    "        \"class_id\": 3,\n",
    "        \"x\": 0.39895832538604736,\n",
    "        \"y\": 0.12777778506278992,\n",
    "        \"width\": 0.09270833432674408,\n",
    "        \"height\": 0.24074074625968933,\n",
    "        \"confidence\": 0.8907243609428406\n",
    "      },\n",
    "      {\n",
    "        \"class_id\": 4,\n",
    "        \"x\": 0.9106770753860474,\n",
    "        \"y\": 0.657870352268219,\n",
    "        \"width\": 0.13489583134651184,\n",
    "        \"height\": 0.15833333134651184,\n",
    "        \"confidence\": 0.912912905216217\n",
    "      },\n",
    "      {\n",
    "        \"class_id\": 2,\n",
    "        \"x\": 0.46041667461395264,\n",
    "        \"y\": 0.5439814925193787,\n",
    "        \"width\": 0.10208333283662796,\n",
    "        \"height\": 0.2768518626689911,\n",
    "        \"confidence\": 0.9158484935760498\n",
    "      },\n",
    "      {\n",
    "        \"class_id\": 0,\n",
    "        \"x\": 0.5583333373069763,\n",
    "        \"y\": 0.8949074149131775,\n",
    "        \"width\": 0.09270833432674408,\n",
    "        \"height\": 0.2101851850748062,\n",
    "        \"confidence\": 0.9349484443664551\n",
    "      },\n",
    "      {\n",
    "        \"class_id\": 5,\n",
    "        \"x\": 0.6174479126930237,\n",
    "        \"y\": 0.14074073731899261,\n",
    "        \"width\": 0.1015625,\n",
    "        \"height\": 0.2518518567085266,\n",
    "        \"confidence\": 0.9392954111099243\n",
    "      },\n",
    "      {\n",
    "        \"class_id\": 5,\n",
    "        \"x\": 0.11484374850988388,\n",
    "        \"y\": 0.34259259700775146,\n",
    "        \"width\": 0.13489583134651184,\n",
    "        \"height\": 0.1814814805984497,\n",
    "        \"confidence\": 0.9490913152694702\n",
    "      },\n",
    "      {\n",
    "        \"class_id\": 5,\n",
    "        \"x\": 0.4572916626930237,\n",
    "        \"y\": 0.8833333253860474,\n",
    "        \"width\": 0.10104166716337204,\n",
    "        \"height\": 0.23333333432674408,\n",
    "        \"confidence\": 0.9521597027778625\n",
    "      },\n",
    "      {\n",
    "        \"class_id\": 0,\n",
    "        \"x\": 0.7065104246139526,\n",
    "        \"y\": 0.19074073433876038,\n",
    "        \"width\": 0.10260416567325592,\n",
    "        \"height\": 0.25555557012557983,\n",
    "        \"confidence\": 0.9584914445877075\n",
    "      }\n",
    "    ]\n",
    "  }\n",
    "]"
   ]
  },
  {
   "cell_type": "code",
   "execution_count": 232,
   "metadata": {},
   "outputs": [
    {
     "ename": "KeyError",
     "evalue": "'x'",
     "output_type": "error",
     "traceback": [
      "\u001b[1;31m---------------------------------------------------------------------------\u001b[0m",
      "\u001b[1;31mKeyError\u001b[0m                                  Traceback (most recent call last)",
      "Cell \u001b[1;32mIn[232], line 2\u001b[0m\n\u001b[0;32m      1\u001b[0m \u001b[38;5;28;01mfor\u001b[39;00m imagelabels \u001b[38;5;129;01min\u001b[39;00m inferResult:\n\u001b[1;32m----> 2\u001b[0m     plt\u001b[38;5;241m.\u001b[39mplot(\u001b[43mimagelabels\u001b[49m\u001b[43m[\u001b[49m\u001b[38;5;124;43m'\u001b[39;49m\u001b[38;5;124;43mx\u001b[39;49m\u001b[38;5;124;43m'\u001b[39;49m\u001b[43m]\u001b[49m, imagelabels[\u001b[38;5;124m'\u001b[39m\u001b[38;5;124my\u001b[39m\u001b[38;5;124m'\u001b[39m], \u001b[38;5;124m'\u001b[39m\u001b[38;5;124mo\u001b[39m\u001b[38;5;124m'\u001b[39m)\n\u001b[0;32m      3\u001b[0m plt\u001b[38;5;241m.\u001b[39maxis((\u001b[38;5;241m0\u001b[39m, \u001b[38;5;241m1\u001b[39m, \u001b[38;5;241m0\u001b[39m, \u001b[38;5;241m1\u001b[39m))\n",
      "\u001b[1;31mKeyError\u001b[0m: 'x'"
     ]
    }
   ],
   "source": [
    "for imagelabels in inferResult:\n",
    "    plt.plot(imagelabels['x'], imagelabels['y'], 'o')\n",
    "plt.axis((0, 1, 0, 1))"
   ]
  },
  {
   "cell_type": "code",
   "execution_count": 233,
   "metadata": {},
   "outputs": [
    {
     "data": {
      "text/plain": [
       "[{'class_id': 4,\n",
       "  'x': 0.5067708492279053,\n",
       "  'y': 0.1476851850748062,\n",
       "  'width': 0.09791667014360428,\n",
       "  'height': 0.24166665971279144,\n",
       "  'confidence': 0.34223493933677673},\n",
       " {'class_id': 1,\n",
       "  'x': 0.9361979365348816,\n",
       "  'y': 0.49768519401550293,\n",
       "  'width': 0.12552084028720856,\n",
       "  'height': 0.19907407462596893,\n",
       "  'confidence': 0.3444693982601166},\n",
       " {'class_id': 4,\n",
       "  'x': 0.11666666716337204,\n",
       "  'y': 0.5273148417472839,\n",
       "  'width': 0.14374999701976776,\n",
       "  'height': 0.18425926566123962,\n",
       "  'confidence': 0.8004319071769714},\n",
       " {'class_id': 1,\n",
       "  'x': 0.507031261920929,\n",
       "  'y': 0.14861111342906952,\n",
       "  'width': 0.09739582985639572,\n",
       "  'height': 0.23981481790542603,\n",
       "  'confidence': 0.8698679208755493},\n",
       " {'class_id': 3,\n",
       "  'x': 0.39895832538604736,\n",
       "  'y': 0.12777778506278992,\n",
       "  'width': 0.09270833432674408,\n",
       "  'height': 0.24074074625968933,\n",
       "  'confidence': 0.8907243609428406},\n",
       " {'class_id': 4,\n",
       "  'x': 0.9106770753860474,\n",
       "  'y': 0.657870352268219,\n",
       "  'width': 0.13489583134651184,\n",
       "  'height': 0.15833333134651184,\n",
       "  'confidence': 0.912912905216217},\n",
       " {'class_id': 2,\n",
       "  'x': 0.46041667461395264,\n",
       "  'y': 0.5439814925193787,\n",
       "  'width': 0.10208333283662796,\n",
       "  'height': 0.2768518626689911,\n",
       "  'confidence': 0.9158484935760498},\n",
       " {'class_id': 0,\n",
       "  'x': 0.5583333373069763,\n",
       "  'y': 0.8949074149131775,\n",
       "  'width': 0.09270833432674408,\n",
       "  'height': 0.2101851850748062,\n",
       "  'confidence': 0.9349484443664551},\n",
       " {'class_id': 5,\n",
       "  'x': 0.6174479126930237,\n",
       "  'y': 0.14074073731899261,\n",
       "  'width': 0.1015625,\n",
       "  'height': 0.2518518567085266,\n",
       "  'confidence': 0.9392954111099243},\n",
       " {'class_id': 5,\n",
       "  'x': 0.11484374850988388,\n",
       "  'y': 0.34259259700775146,\n",
       "  'width': 0.13489583134651184,\n",
       "  'height': 0.1814814805984497,\n",
       "  'confidence': 0.9490913152694702},\n",
       " {'class_id': 5,\n",
       "  'x': 0.4572916626930237,\n",
       "  'y': 0.8833333253860474,\n",
       "  'width': 0.10104166716337204,\n",
       "  'height': 0.23333333432674408,\n",
       "  'confidence': 0.9521597027778625},\n",
       " {'class_id': 0,\n",
       "  'x': 0.7065104246139526,\n",
       "  'y': 0.19074073433876038,\n",
       "  'width': 0.10260416567325592,\n",
       "  'height': 0.25555557012557983,\n",
       "  'confidence': 0.9584914445877075}]"
      ]
     },
     "execution_count": 233,
     "metadata": {},
     "output_type": "execute_result"
    }
   ],
   "source": [
    "# 임의로 리스트 하나만 남겨서 0의 인덱스로 접근 한 모습\n",
    "## TODO: 이 부분 구현해야함\n",
    "## TODO: BBOX 말도 안되는 포인트 제거 하는게 좋아보임\n",
    "inferResult = inferResult[0]['detections']\n",
    "cardInfo = [obj for obj in inferResult if obj['class_id'] < 6]\n",
    "cardInfo"
   ]
  },
  {
   "cell_type": "code",
   "execution_count": 234,
   "metadata": {},
   "outputs": [
    {
     "data": {
      "text/plain": [
       "(0.0, 1.0, 0.0, 1.0)"
      ]
     },
     "execution_count": 234,
     "metadata": {},
     "output_type": "execute_result"
    },
    {
     "data": {
      "image/png": "[encoded data removed]",
      "text/plain": [
       "<Figure size 640x480 with 1 Axes>"
      ]
     },
     "metadata": {},
     "output_type": "display_data"
    }
   ],
   "source": [
    "for imagelabels in cardInfo:\n",
    "    plt.plot(imagelabels['x'], imagelabels['y'], 'bs')\n",
    "plt.axis((0, 1, 0, 1))"
   ]
  },
  {
   "cell_type": "code",
   "execution_count": 235,
   "metadata": {},
   "outputs": [],
   "source": [
    "cardPoints = dict(enumerate([{\"center\": (i['x'], i['y']), \"cluster\": -1} for i in cardInfo]))"
   ]
  },
  {
   "cell_type": "code",
   "execution_count": 236,
   "metadata": {},
   "outputs": [
    {
     "name": "stdout",
     "output_type": "stream",
     "text": [
      "{'center': (0.5067708492279053, 0.1476851850748062), 'cluster': -1}\n",
      "{'center': (0.9361979365348816, 0.49768519401550293), 'cluster': -1}\n",
      "{'center': (0.11666666716337204, 0.5273148417472839), 'cluster': -1}\n",
      "{'center': (0.507031261920929, 0.14861111342906952), 'cluster': -1}\n",
      "{'center': (0.39895832538604736, 0.12777778506278992), 'cluster': -1}\n",
      "{'center': (0.9106770753860474, 0.657870352268219), 'cluster': -1}\n",
      "{'center': (0.46041667461395264, 0.5439814925193787), 'cluster': -1}\n",
      "{'center': (0.5583333373069763, 0.8949074149131775), 'cluster': -1}\n",
      "{'center': (0.6174479126930237, 0.14074073731899261), 'cluster': -1}\n",
      "{'center': (0.11484374850988388, 0.34259259700775146), 'cluster': -1}\n",
      "{'center': (0.4572916626930237, 0.8833333253860474), 'cluster': -1}\n",
      "{'center': (0.7065104246139526, 0.19074073433876038), 'cluster': -1}\n"
     ]
    },
    {
     "data": {
      "text/plain": [
       "(0.0, 1.0, 0.0, 1.0)"
      ]
     },
     "execution_count": 236,
     "metadata": {},
     "output_type": "execute_result"
    },
    {
     "data": {
      "image/png": "[encoded data removed]",
      "text/plain": [
       "<Figure size 640x480 with 1 Axes>"
      ]
     },
     "metadata": {},
     "output_type": "display_data"
    }
   ],
   "source": [
    "for label in cardPoints.values():\n",
    "    print(label)\n",
    "    plt.plot(label['center'], 'bo')\n",
    "plt.axis((0, 1, 0, 1))"
   ]
  },
  {
   "cell_type": "code",
   "execution_count": 237,
   "metadata": {},
   "outputs": [
    {
     "data": {
      "text/plain": [
       "{0: {'center': (0.6174479126930237, 0.14074073731899261), 'points': []},\n",
       " 1: {'center': (0.4572916626930237, 0.8833333253860474), 'points': []},\n",
       " 2: {'center': (0.11484374850988388, 0.34259259700775146), 'points': []},\n",
       " 3: {'center': (0.9106770753860474, 0.657870352268219), 'points': []},\n",
       " 4: {'center': (0.46041667461395264, 0.5439814925193787), 'points': []}}"
      ]
     },
     "execution_count": 237,
     "metadata": {},
     "output_type": "execute_result"
    }
   ],
   "source": [
    "def kmeansplusplusInit(pointData):\n",
    "    clusters = dict()\n",
    "    clusters[0] = {\n",
    "        \"center\": random.choice(pointData)['center'],\n",
    "        'points': []\n",
    "    }\n",
    "\n",
    "    for idx in range(1, N):\n",
    "        # print(f'{idx=}')\n",
    "        dist = dict()\n",
    "\n",
    "        for i in pointData:\n",
    "            point = pointData[i]\n",
    "            d = sys.maxsize\n",
    "\n",
    "            for j in clusters:\n",
    "                # print(f'{clusters[j][\"center\"]=}')\n",
    "                temp_dist = calDistPoint(point['center'], clusters[j]['center'])\n",
    "                d = min(d, temp_dist)\n",
    "            # print(f'{d=}')\n",
    "            dist[i] = d\n",
    "\n",
    "        # TODO: find second max\n",
    "        # print(f'{dist=}')\n",
    "        max_dist_point = max(dist, key=dist.get)\n",
    "        clusters[idx] = {\n",
    "            'center': pointData[max_dist_point]['center'],\n",
    "            'points': []\n",
    "        }\n",
    "\n",
    "    return clusters\n",
    "\n",
    "clusters = kmeansplusplusInit(cardPoints)\n",
    "clusters"
   ]
  },
  {
   "cell_type": "code",
   "execution_count": 238,
   "metadata": {},
   "outputs": [
    {
     "data": {
      "text/plain": [
       "(0.0, 1.0, 0.0, 1.0)"
      ]
     },
     "execution_count": 238,
     "metadata": {},
     "output_type": "execute_result"
    },
    {
     "data": {
      "image/png": "[encoded data removed]",
      "text/plain": [
       "<Figure size 640x480 with 1 Axes>"
      ]
     },
     "metadata": {},
     "output_type": "display_data"
    }
   ],
   "source": [
    "for label in cardInfo:\n",
    "    plt.plot(label['x'], label['y'], 'bo')\n",
    "plt.plot([clusters[k][\"center\"][0] for k in clusters], [clusters[k][\"center\"][1] for k in clusters], 'rx')\n",
    "plt.axis((0, 1, 0, 1))"
   ]
  },
  {
   "cell_type": "code",
   "execution_count": 264,
   "metadata": {},
   "outputs": [],
   "source": [
    "def assign_clusters(X, clusters):\n",
    "    for idx in range(len(X)):\n",
    "        dist = []\n",
    "         \n",
    "        curr_point = X[idx]\n",
    "        for i in range(N):\n",
    "            dis = calDistPoint(curr_point['center'], clusters[i]['center'])\n",
    "            dist.append((i, dis))\n",
    "        # curr_cluster = np.argmin(dist)\n",
    "        curr_cluster = min(dist, key=lambda x: x[1])[0]\n",
    "        clusters[curr_cluster]['points'].append(curr_point)\n",
    "        curr_point['cluster'] = curr_cluster\n",
    "    return clusters"
   ]
  },
  {
   "cell_type": "code",
   "execution_count": 265,
   "metadata": {},
   "outputs": [],
   "source": [
    "#Implementing the M-Step\n",
    "def update_clusters(X, clusters):\n",
    "    for i in range(N):\n",
    "        # print([points['center'] for points in clusters[i]['points']])\n",
    "        print(clusters[i]['points'])\n",
    "        points = np.array([[points['center'][0], points['center'][1]] for points in clusters[i]['points']])\n",
    "        # print(points)\n",
    "        if len(points) > 0:\n",
    "            new_center = list(points.mean(axis =0))\n",
    "            clusters[i]['center'] = new_center\n",
    "            # print(f'{new_center=}')\n",
    "             \n",
    "            clusters[i]['points'] = []\n",
    "    return clusters"
   ]
  },
  {
   "cell_type": "code",
   "execution_count": 266,
   "metadata": {},
   "outputs": [],
   "source": [
    "def pred_cluster(X, clusters):\n",
    "    pred = []\n",
    "    for i in range(len(X)):\n",
    "        dist = []\n",
    "        for j in range(N):\n",
    "            dist.append(calDistPoint(X[i]['center'],clusters[j]['center']))\n",
    "        pred.append(np.argmin(dist))\n",
    "    return pred"
   ]
  },
  {
   "cell_type": "code",
   "execution_count": 267,
   "metadata": {},
   "outputs": [],
   "source": [
    "# def isSameClusters(pre, cur):\n",
    "#     print(pre)\n",
    "#     for k in cur:\n",
    "#         if pre.get(k) is None:\n",
    "#             return False\n",
    "        \n",
    "#         print(pre[k] == cur[k])"
   ]
  },
  {
   "cell_type": "code",
   "execution_count": 268,
   "metadata": {},
   "outputs": [],
   "source": [
    "# print(pre_cluster == clusters)\n",
    "# print('=========')\n",
    "# isSameClusters(pre_cluster, clusters)"
   ]
  },
  {
   "cell_type": "code",
   "execution_count": 269,
   "metadata": {},
   "outputs": [
    {
     "name": "stdout",
     "output_type": "stream",
     "text": [
      "[{'center': (0.5067708492279053, 0.1476851850748062), 'cluster': 0}, {'center': (0.507031261920929, 0.14861111342906952), 'cluster': 0}, {'center': (0.39895832538604736, 0.12777778506278992), 'cluster': 0}, {'center': (0.6174479126930237, 0.14074073731899261), 'cluster': 0}, {'center': (0.7065104246139526, 0.19074073433876038), 'cluster': 0}]\n",
      "[{'center': (0.5583333373069763, 0.8949074149131775), 'cluster': 1}, {'center': (0.4572916626930237, 0.8833333253860474), 'cluster': 1}]\n",
      "[{'center': (0.11666666716337204, 0.5273148417472839), 'cluster': 2}, {'center': (0.11484374850988388, 0.34259259700775146), 'cluster': 2}]\n",
      "[{'center': (0.9361979365348816, 0.49768519401550293), 'cluster': 3}, {'center': (0.9106770753860474, 0.657870352268219), 'cluster': 3}]\n",
      "[{'center': (0.46041667461395264, 0.5439814925193787), 'cluster': 4}]\n"
     ]
    },
    {
     "data": {
      "text/plain": [
       "{0: {'center': [0.5473437547683716, 0.15111111104488373], 'points': []},\n",
       " 1: {'center': [0.5078125, 0.8891203701496124], 'points': []},\n",
       " 2: {'center': [0.11575520783662796, 0.4349537193775177], 'points': []},\n",
       " 3: {'center': [0.9234375059604645, 0.577777773141861], 'points': []},\n",
       " 4: {'center': [0.46041667461395264, 0.5439814925193787], 'points': []}}"
      ]
     },
     "execution_count": 269,
     "metadata": {},
     "output_type": "execute_result"
    }
   ],
   "source": [
    "pre_cluster = clusters\n",
    "clusters = assign_clusters(cardPoints,clusters)\n",
    "clusters = update_clusters(cardPoints,clusters)\n",
    "pred = pred_cluster(cardPoints,clusters)\n",
    "\n",
    "clusters"
   ]
  },
  {
   "cell_type": "code",
   "execution_count": 276,
   "metadata": {},
   "outputs": [
    {
     "name": "stdout",
     "output_type": "stream",
     "text": [
      "[{'center': (0.5067708492279053, 0.1476851850748062), 'cluster': 0}, {'center': (0.507031261920929, 0.14861111342906952), 'cluster': 0}, {'center': (0.39895832538604736, 0.12777778506278992), 'cluster': 0}, {'center': (0.6174479126930237, 0.14074073731899261), 'cluster': 0}, {'center': (0.7065104246139526, 0.19074073433876038), 'cluster': 0}]\n",
      "[{'center': (0.5583333373069763, 0.8949074149131775), 'cluster': 1}, {'center': (0.4572916626930237, 0.8833333253860474), 'cluster': 1}]\n",
      "[{'center': (0.11666666716337204, 0.5273148417472839), 'cluster': 2}, {'center': (0.11484374850988388, 0.34259259700775146), 'cluster': 2}]\n",
      "[{'center': (0.9361979365348816, 0.49768519401550293), 'cluster': 3}, {'center': (0.9106770753860474, 0.657870352268219), 'cluster': 3}]\n",
      "[{'center': (0.46041667461395264, 0.5439814925193787), 'cluster': 4}]\n"
     ]
    }
   ],
   "source": [
    "pre_cluster = {}\n",
    "while pre_cluster != clusters:\n",
    "    pre_cluster = clusters\n",
    "    clusters = assign_clusters(cardPoints,clusters)\n",
    "    clusters = update_clusters(cardPoints,clusters)\n",
    "    pred = pred_cluster(cardPoints,clusters)\n",
    "\n",
    "for idx, clust_id in enumerate(pred):\n",
    "    clusters[clust_id]['points'].append(idx)"
   ]
  },
  {
   "cell_type": "code",
   "execution_count": 279,
   "metadata": {},
   "outputs": [
    {
     "data": {
      "text/plain": [
       "(0.0, 1.0, 0.0, 1.0)"
      ]
     },
     "execution_count": 279,
     "metadata": {},
     "output_type": "execute_result"
    },
    {
     "data": {
      "image/png": "[encoded data removed]",
      "text/plain": [
       "<Figure size 640x480 with 1 Axes>"
      ]
     },
     "metadata": {},
     "output_type": "display_data"
    }
   ],
   "source": [
    "for idx, label in enumerate(cardInfo):\n",
    "    plt.text(label['x']+0.01, label['y']+0.01, f\"{idx}-{label['class_id']}\")\n",
    "    plt.plot(label['x'], label['y'], 'bo')\n",
    "\n",
    "clust_font = {\n",
    "    'color': 'red'\n",
    "}\n",
    "for k in clusters:\n",
    "    plt.text(clusters[k][\"center\"][0], clusters[k][\"center\"][1], k, fontdict=clust_font)\n",
    "    plt.plot(clusters[k][\"center\"][0], clusters[k][\"center\"][1], 'rx')\n",
    "\n",
    "plt.axhline(0.5)\n",
    "plt.axvline(0.5)\n",
    "plt.axis((0, 1, 0, 1))"
   ]
  },
  {
   "cell_type": "code",
   "execution_count": 280,
   "metadata": {},
   "outputs": [
    {
     "name": "stdout",
     "output_type": "stream",
     "text": [
      "clusters={0: {'center': [0.5473437547683716, 0.15111111104488373], 'points': [0, 3, 4, 8, 11]}, 1: {'center': [0.5078125, 0.8891203701496124], 'points': [7, 10]}, 2: {'center': [0.11575520783662796, 0.4349537193775177], 'points': [2, 9]}, 3: {'center': [0.9234375059604645, 0.577777773141861], 'points': [1, 5]}, 4: {'center': [0.46041667461395264, 0.5439814925193787], 'points': [6]}}\n",
      "cardPoints={0: {'center': (0.5067708492279053, 0.1476851850748062), 'cluster': 0}, 1: {'center': (0.9361979365348816, 0.49768519401550293), 'cluster': 3}, 2: {'center': (0.11666666716337204, 0.5273148417472839), 'cluster': 2}, 3: {'center': (0.507031261920929, 0.14861111342906952), 'cluster': 0}, 4: {'center': (0.39895832538604736, 0.12777778506278992), 'cluster': 0}, 5: {'center': (0.9106770753860474, 0.657870352268219), 'cluster': 3}, 6: {'center': (0.46041667461395264, 0.5439814925193787), 'cluster': 4}, 7: {'center': (0.5583333373069763, 0.8949074149131775), 'cluster': 1}, 8: {'center': (0.6174479126930237, 0.14074073731899261), 'cluster': 0}, 9: {'center': (0.11484374850988388, 0.34259259700775146), 'cluster': 2}, 10: {'center': (0.4572916626930237, 0.8833333253860474), 'cluster': 1}, 11: {'center': (0.7065104246139526, 0.19074073433876038), 'cluster': 0}}\n",
      "pred=[0, 3, 2, 0, 0, 3, 4, 1, 0, 2, 1, 0]\n"
     ]
    }
   ],
   "source": [
    "print(f'{clusters=}')\n",
    "print(f'{cardPoints=}')\n",
    "print(f'{pred=}')"
   ]
  },
  {
   "cell_type": "code",
   "execution_count": 281,
   "metadata": {},
   "outputs": [
    {
     "data": {
      "text/plain": [
       "(0.0, 1.0, 0.0, 1.0)"
      ]
     },
     "execution_count": 281,
     "metadata": {},
     "output_type": "execute_result"
    },
    {
     "data": {
      "image/png": "[encoded data removed]",
      "text/plain": [
       "<Figure size 640x480 with 1 Axes>"
      ]
     },
     "metadata": {},
     "output_type": "display_data"
    }
   ],
   "source": [
    "plt.plot([clusters[k][\"center\"][0] for k in clusters], [clusters[k][\"center\"][1] for k in clusters], 'ro')\n",
    "plt.axis((0, 1, 0, 1))"
   ]
  },
  {
   "cell_type": "code",
   "execution_count": 282,
   "metadata": {},
   "outputs": [],
   "source": [
    "cluster_points = [clusters[k]['center'] for k in clusters]\n",
    "clusterVects  = getVectorValueByCenter(cluster_points)\n",
    "vectorSizes = getVectorSize(clusterVects)\n",
    "products = [productVector(vec, [1, 0]) for vec in clusterVects]"
   ]
  },
  {
   "cell_type": "code",
   "execution_count": 249,
   "metadata": {},
   "outputs": [
    {
     "data": {
      "text/plain": [
       "[4.847263799640321,\n",
       " 1.5507216889319408,\n",
       " 3.309286296322627,\n",
       " 0.18165691125558064,\n",
       " 2.3036112039590835]"
      ]
     },
     "execution_count": 249,
     "metadata": {},
     "output_type": "execute_result"
    }
   ],
   "source": [
    "angles = [math.acos(p / s) if v[1] > 0 else 2 * math.pi - math.acos(p/s) for p, s, v in zip(products, vectorSizes, clusterVects)]\n",
    "angles"
   ]
  },
  {
   "cell_type": "code",
   "execution_count": 250,
   "metadata": {},
   "outputs": [
    {
     "data": {
      "text/plain": [
       "[(3, 10.408174334327311),\n",
       " (1, 88.84980797519911),\n",
       " (4, 131.98719962590576),\n",
       " (2, 189.60813797976607),\n",
       " (0, 277.7277579059375)]"
      ]
     },
     "execution_count": 250,
     "metadata": {},
     "output_type": "execute_result"
    }
   ],
   "source": [
    "degrees = anglesToDegrees(angles)\n",
    "degrees = list(enumerate(degrees))\n",
    "degrees.sort(key=lambda x : x[1])\n",
    "degrees"
   ]
  },
  {
   "cell_type": "code",
   "execution_count": 283,
   "metadata": {},
   "outputs": [
    {
     "data": {
      "text/plain": [
       "[3, 1, 4, 2, 0]"
      ]
     },
     "execution_count": 283,
     "metadata": {},
     "output_type": "execute_result"
    }
   ],
   "source": [
    "player_cluster_id = [cluster_id for (cluster_id, _) in degrees]\n",
    "player_cluster_id"
   ]
  },
  {
   "cell_type": "code",
   "execution_count": 284,
   "metadata": {},
   "outputs": [
    {
     "data": {
      "text/plain": [
       "(0.0, 1.0, 0.0, 1.0)"
      ]
     },
     "execution_count": 284,
     "metadata": {},
     "output_type": "execute_result"
    },
    {
     "data": {
      "image/png": "[encoded data removed]",
      "text/plain": [
       "<Figure size 640x480 with 1 Axes>"
      ]
     },
     "metadata": {},
     "output_type": "display_data"
    }
   ],
   "source": [
    "for idx, label in enumerate(cardInfo):\n",
    "    plt.text(label['x']+0.01, label['y']+0.01, f\"{idx}-{label['class_id']}\")\n",
    "    plt.plot(label['x'], label['y'], 'bo')\n",
    "\n",
    "clust_font = {\n",
    "    'color': 'red'\n",
    "}\n",
    "for k in clusters:\n",
    "    plt.text(clusters[k][\"center\"][0], clusters[k][\"center\"][1], k, fontdict=clust_font)\n",
    "    plt.plot(clusters[k][\"center\"][0], clusters[k][\"center\"][1], 'rx')\n",
    "\n",
    "plt.axhline(0.5)\n",
    "plt.axvline(0.5)\n",
    "plt.axis((0, 1, 0, 1))"
   ]
  },
  {
   "cell_type": "code",
   "execution_count": 253,
   "metadata": {},
   "outputs": [],
   "source": [
    "players = [\n",
    "    {\n",
    "        \"cards\": clusters[id]['points'],\n",
    "        \"extra_card\": [],\n",
    "        \"vector_value\": clusterVects[id]\n",
    "    } for id in player_cluster_id\n",
    "]"
   ]
  },
  {
   "cell_type": "code",
   "execution_count": 254,
   "metadata": {},
   "outputs": [
    {
     "data": {
      "text/plain": [
       "[{'cards': [],\n",
       "  'extra_card': [],\n",
       "  'vector_value': [0.4234375059604645, 0.07777777314186096]},\n",
       " {'cards': [],\n",
       "  'extra_card': [],\n",
       "  'vector_value': [0.0078125, 0.3891203701496124]},\n",
       " {'cards': [],\n",
       "  'extra_card': [],\n",
       "  'vector_value': [-0.03958332538604736, 0.04398149251937866]},\n",
       " {'cards': [],\n",
       "  'extra_card': [],\n",
       "  'vector_value': [-0.38424479216337204, -0.0650462806224823]},\n",
       " {'cards': [],\n",
       "  'extra_card': [],\n",
       "  'vector_value': [0.047343754768371604, -0.34888888895511627]}]"
      ]
     },
     "execution_count": 254,
     "metadata": {},
     "output_type": "execute_result"
    }
   ],
   "source": [
    "players"
   ]
  },
  {
   "cell_type": "code",
   "execution_count": 255,
   "metadata": {},
   "outputs": [
    {
     "data": {
      "text/plain": [
       "{0: {'center': [0.5473437547683716, 0.15111111104488373], 'points': []},\n",
       " 1: {'center': [0.5078125, 0.8891203701496124], 'points': []},\n",
       " 2: {'center': [0.11575520783662796, 0.4349537193775177], 'points': []},\n",
       " 3: {'center': [0.9234375059604645, 0.577777773141861], 'points': []},\n",
       " 4: {'center': [0.46041667461395264, 0.5439814925193787], 'points': []}}"
      ]
     },
     "execution_count": 255,
     "metadata": {},
     "output_type": "execute_result"
    }
   ],
   "source": [
    "clusters"
   ]
  },
  {
   "cell_type": "code",
   "execution_count": 256,
   "metadata": {},
   "outputs": [
    {
     "data": {
      "text/plain": [
       "5"
      ]
     },
     "execution_count": 256,
     "metadata": {},
     "output_type": "execute_result"
    }
   ],
   "source": [
    "len(clusters)"
   ]
  },
  {
   "cell_type": "code",
   "execution_count": null,
   "metadata": {},
   "outputs": [],
   "source": []
  }
 ],
 "metadata": {
  "kernelspec": {
   "display_name": "Python 3",
   "language": "python",
   "name": "python3"
  },
  "language_info": {
   "codemirror_mode": {
    "name": "ipython",
    "version": 3
   },
   "file_extension": ".py",
   "mimetype": "text/x-python",
   "name": "python",
   "nbconvert_exporter": "python",
   "pygments_lexer": "ipython3",
   "version": "3.10.11"
  }
 },
 "nbformat": 4,
 "nbformat_minor": 2
}
