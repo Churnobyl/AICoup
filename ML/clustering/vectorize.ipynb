{
 "cells": [
  {
   "cell_type": "code",
   "execution_count": 1,
   "metadata": {},
   "outputs": [],
   "source": [
    "import math\n",
    "import sys\n",
    "import random\n",
    "import numpy as np\n",
    "import matplotlib.pyplot as plt"
   ]
  },
  {
   "cell_type": "code",
   "execution_count": 23,
   "metadata": {},
   "outputs": [],
   "source": [
    "clusters = {0: {'center': [0.5473437547683716, 0.15111111104488373], 'points': []},\n",
    " 1: {'center': [0.5078125, 0.8891203701496124], 'points': []},\n",
    " 2: {'center': [0.9234375059604645, 0.577777773141861], 'points': []},\n",
    " 3: {'center': [0.11575520783662796, 0.4349537193775177], 'points': []},\n",
    " 4: {'center': [0.46041667461395264, 0.5439814925193787], 'points': []}}"
   ]
  },
  {
   "cell_type": "code",
   "execution_count": 24,
   "metadata": {},
   "outputs": [],
   "source": [
    "points = np.array([clusters[k]['center'] for k in clusters])"
   ]
  },
  {
   "cell_type": "code",
   "execution_count": 25,
   "metadata": {},
   "outputs": [
    {
     "data": {
      "text/plain": [
       "(0.0, 1.0, 0.0, 1.0)"
      ]
     },
     "execution_count": 25,
     "metadata": {},
     "output_type": "execute_result"
    },
    {
     "data": {
      "image/png": "[encoded data removed]",
      "text/plain": [
       "<Figure size 640x480 with 1 Axes>"
      ]
     },
     "metadata": {},
     "output_type": "display_data"
    }
   ],
   "source": [
    "plt.plot([clusters[k][\"center\"][0] for k in clusters], [clusters[k][\"center\"][1] for k in clusters], 'ro')\n",
    "plt.axis((0, 1, 0, 1))"
   ]
  },
  {
   "cell_type": "code",
   "execution_count": 26,
   "metadata": {},
   "outputs": [],
   "source": [
    "def getVectorValueByCenter(dots):\n",
    "    ret = []\n",
    "    for dot in dots:\n",
    "        ret.append([dot[0] - 0.5, dot[1] - 0.5])\n",
    "\n",
    "    return ret"
   ]
  },
  {
   "cell_type": "code",
   "execution_count": 40,
   "metadata": {},
   "outputs": [
    {
     "data": {
      "text/plain": [
       "[[0.047343754768371604, -0.34888888895511627],\n",
       " [0.0078125, 0.3891203701496124],\n",
       " [0.4234375059604645, 0.07777777314186096],\n",
       " [-0.38424479216337204, -0.0650462806224823],\n",
       " [-0.03958332538604736, 0.04398149251937866]]"
      ]
     },
     "execution_count": 40,
     "metadata": {},
     "output_type": "execute_result"
    }
   ],
   "source": [
    "point_vecs = getVectorValueByCenter(points)\n",
    "point_vecs"
   ]
  },
  {
   "cell_type": "code",
   "execution_count": 38,
   "metadata": {},
   "outputs": [],
   "source": [
    "def getVectorSize(vects):\n",
    "    ret = []\n",
    "    for vec in vects:\n",
    "        ret.append(math.sqrt(vec[0]**2 + vec[1]**2))\n",
    "    \n",
    "    return ret"
   ]
  },
  {
   "cell_type": "code",
   "execution_count": 39,
   "metadata": {},
   "outputs": [
    {
     "data": {
      "text/plain": [
       "[0.35208647794526726,\n",
       " 0.38919878933730173,\n",
       " 0.43052143204366167,\n",
       " 0.3897115329670033,\n",
       " 0.05917103457647046]"
      ]
     },
     "execution_count": 39,
     "metadata": {},
     "output_type": "execute_result"
    }
   ],
   "source": [
    "getVectorSize(point_vecs)"
   ]
  },
  {
   "cell_type": "code",
   "execution_count": 46,
   "metadata": {},
   "outputs": [],
   "source": [
    "def getAngleVector(vects):\n",
    "    ret = []\n",
    "\n",
    "    for vec in vects:\n",
    "        ret.append(math.atan2(vec[1], vec[0]))\n",
    "\n",
    "    return ret"
   ]
  },
  {
   "cell_type": "code",
   "execution_count": 47,
   "metadata": {},
   "outputs": [
    {
     "data": {
      "text/plain": [
       "[-1.4359215075392653,\n",
       " 1.5507216889319408,\n",
       " 0.1816569112555803,\n",
       " -2.973899010856959,\n",
       " 2.303611203959083]"
      ]
     },
     "execution_count": 47,
     "metadata": {},
     "output_type": "execute_result"
    }
   ],
   "source": [
    "getAngleVector(point_vecs)"
   ]
  },
  {
   "cell_type": "code",
   "execution_count": 43,
   "metadata": {},
   "outputs": [],
   "source": [
    "def unitVector(vects):\n",
    "    ret = []\n",
    "    sizes = getVectorSize(vects)\n",
    "    for vec, size in zip(vects, sizes):\n",
    "        ret.append([vec[0] / size, vec[1] / size])\n",
    "    \n",
    "    return ret"
   ]
  },
  {
   "cell_type": "code",
   "execution_count": 45,
   "metadata": {},
   "outputs": [
    {
     "data": {
      "text/plain": [
       "[1.0, 1.0, 0.9999999999999999, 1.0, 1.0]"
      ]
     },
     "execution_count": 45,
     "metadata": {},
     "output_type": "execute_result"
    }
   ],
   "source": [
    "getVectorSize(unitVector(point_vecs))"
   ]
  },
  {
   "cell_type": "code",
   "execution_count": null,
   "metadata": {},
   "outputs": [],
   "source": []
  }
 ],
 "metadata": {
  "kernelspec": {
   "display_name": "Python 3",
   "language": "python",
   "name": "python3"
  },
  "language_info": {
   "codemirror_mode": {
    "name": "ipython",
    "version": 3
   },
   "file_extension": ".py",
   "mimetype": "text/x-python",
   "name": "python",
   "nbconvert_exporter": "python",
   "pygments_lexer": "ipython3",
   "version": "3.10.11"
  }
 },
 "nbformat": 4,
 "nbformat_minor": 2
}
