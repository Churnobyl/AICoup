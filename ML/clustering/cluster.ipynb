{
 "cells": [
  {
   "cell_type": "code",
   "execution_count": 169,
   "metadata": {},
   "outputs": [],
   "source": [
    "import math\n",
    "import random\n",
    "import numpy as np\n",
    "import matplotlib.pyplot as plt"
   ]
  },
  {
   "cell_type": "code",
   "execution_count": 170,
   "metadata": {},
   "outputs": [],
   "source": [
    "N = 3"
   ]
  },
  {
   "cell_type": "code",
   "execution_count": 171,
   "metadata": {},
   "outputs": [],
   "source": [
    "images = [\n",
    "    {\n",
    "      \"image\": 1,\n",
    "      \"detections\": [\n",
    "        {\n",
    "          \"class_id\": 4,\n",
    "          \"x\": 0.37812501192092896,\n",
    "          \"y\": 0.6864583492279053,\n",
    "          \"width\": 0.08437500149011612,\n",
    "          \"height\": 0.18125000596046448,\n",
    "          \"confidence\": 0.6846325397491455\n",
    "        },\n",
    "        {\n",
    "          \"class_id\": 3,\n",
    "          \"x\": 0.5953124761581421,\n",
    "          \"y\": 0.7437499761581421,\n",
    "          \"width\": 0.09062500298023224,\n",
    "          \"height\": 0.1666666716337204,\n",
    "          \"confidence\": 0.7737794518470764\n",
    "        },\n",
    "        {\n",
    "          \"class_id\": 1,\n",
    "          \"x\": 0.40703123807907104,\n",
    "          \"y\": 0.37291666865348816,\n",
    "          \"width\": 0.07343749701976776,\n",
    "          \"height\": 0.13333334028720856,\n",
    "          \"confidence\": 0.8370771408081055\n",
    "        },\n",
    "        {\n",
    "          \"class_id\": 2,\n",
    "          \"x\": 0.5101562738418579,\n",
    "          \"y\": 0.7447916865348816,\n",
    "          \"width\": 0.08906249701976776,\n",
    "          \"height\": 0.18541666865348816,\n",
    "          \"confidence\": 0.8590912818908691\n",
    "        },\n",
    "        {\n",
    "          \"class_id\": 1,\n",
    "          \"x\": 0.2945312559604645,\n",
    "          \"y\": 0.6666666865348816,\n",
    "          \"width\": 0.08281250298023224,\n",
    "          \"height\": 0.1458333283662796,\n",
    "          \"confidence\": 0.9108979105949402\n",
    "        }\n",
    "      ]\n",
    "    },\n",
    "    {\n",
    "      \"image\": 2,\n",
    "      \"detections\": [\n",
    "        {\n",
    "          \"class_id\": 4,\n",
    "          \"x\": 0.3804687559604645,\n",
    "          \"y\": 0.684374988079071,\n",
    "          \"width\": 0.08281250298023224,\n",
    "          \"height\": 0.17291666567325592,\n",
    "          \"confidence\": 0.3524661958217621\n",
    "        },\n",
    "        {\n",
    "          \"class_id\": 3,\n",
    "          \"x\": 0.596875011920929,\n",
    "          \"y\": 0.746874988079071,\n",
    "          \"width\": 0.08749999850988388,\n",
    "          \"height\": 0.16875000298023224,\n",
    "          \"confidence\": 0.6998907923698425\n",
    "        },\n",
    "        {\n",
    "          \"class_id\": 2,\n",
    "          \"x\": 0.5101562738418579,\n",
    "          \"y\": 0.7583333253860474,\n",
    "          \"width\": 0.0859375,\n",
    "          \"height\": 0.22083333134651184,\n",
    "          \"confidence\": 0.7339903116226196\n",
    "        },\n",
    "        {\n",
    "          \"class_id\": 0,\n",
    "          \"x\": 0.3382812440395355,\n",
    "          \"y\": 0.3635416626930237,\n",
    "          \"width\": 0.07343749701976776,\n",
    "          \"height\": 0.13958333432674408,\n",
    "          \"confidence\": 0.7976427674293518\n",
    "        },\n",
    "        {\n",
    "          \"class_id\": 1,\n",
    "          \"x\": 0.40546876192092896,\n",
    "          \"y\": 0.37291666865348816,\n",
    "          \"width\": 0.07343749701976776,\n",
    "          \"height\": 0.13333334028720856,\n",
    "          \"confidence\": 0.9070711135864258\n",
    "        },\n",
    "        {\n",
    "          \"class_id\": 1,\n",
    "          \"x\": 0.29609376192092896,\n",
    "          \"y\": 0.671875,\n",
    "          \"width\": 0.07968749850988388,\n",
    "          \"height\": 0.14791665971279144,\n",
    "          \"confidence\": 0.9220471382141113\n",
    "        }\n",
    "      ]\n",
    "    },\n",
    "    {\n",
    "      \"image\": 3,\n",
    "      \"detections\": [\n",
    "        {\n",
    "          \"class_id\": 4,\n",
    "          \"x\": 0.3851562440395355,\n",
    "          \"y\": 0.699999988079071,\n",
    "          \"width\": 0.08906249701976776,\n",
    "          \"height\": 0.19166666269302368,\n",
    "          \"confidence\": 0.6211552023887634\n",
    "        },\n",
    "        {\n",
    "          \"class_id\": 3,\n",
    "          \"x\": 0.5953124761581421,\n",
    "          \"y\": 0.7447916865348816,\n",
    "          \"width\": 0.08749999850988388,\n",
    "          \"height\": 0.16875000298023224,\n",
    "          \"confidence\": 0.741838812828064\n",
    "        },\n",
    "        {\n",
    "          \"class_id\": 0,\n",
    "          \"x\": 0.34296876192092896,\n",
    "          \"y\": 0.3635416626930237,\n",
    "          \"width\": 0.07343749701976776,\n",
    "          \"height\": 0.13958333432674408,\n",
    "          \"confidence\": 0.8085684180259705\n",
    "        },\n",
    "        {\n",
    "          \"class_id\": 2,\n",
    "          \"x\": 0.5101562738418579,\n",
    "          \"y\": 0.746874988079071,\n",
    "          \"width\": 0.0859375,\n",
    "          \"height\": 0.1979166716337204,\n",
    "          \"confidence\": 0.8277846574783325\n",
    "        },\n",
    "        {\n",
    "          \"class_id\": 1,\n",
    "          \"x\": 0.40703123807907104,\n",
    "          \"y\": 0.37291666865348816,\n",
    "          \"width\": 0.07343749701976776,\n",
    "          \"height\": 0.13333334028720856,\n",
    "          \"confidence\": 0.8830307126045227\n",
    "        },\n",
    "        {\n",
    "          \"class_id\": 1,\n",
    "          \"x\": 0.30156248807907104,\n",
    "          \"y\": 0.6760416626930237,\n",
    "          \"width\": 0.078125,\n",
    "          \"height\": 0.14791665971279144,\n",
    "          \"confidence\": 0.9246500134468079\n",
    "        }\n",
    "      ]\n",
    "    }\n",
    "  ]"
   ]
  },
  {
   "cell_type": "code",
   "execution_count": 172,
   "metadata": {},
   "outputs": [
    {
     "data": {
      "text/plain": [
       "[[{'class_id': 4,\n",
       "   'x': 0.37812501192092896,\n",
       "   'y': 0.6864583492279053,\n",
       "   'width': 0.08437500149011612,\n",
       "   'height': 0.18125000596046448,\n",
       "   'confidence': 0.6846325397491455},\n",
       "  {'class_id': 3,\n",
       "   'x': 0.5953124761581421,\n",
       "   'y': 0.7437499761581421,\n",
       "   'width': 0.09062500298023224,\n",
       "   'height': 0.1666666716337204,\n",
       "   'confidence': 0.7737794518470764},\n",
       "  {'class_id': 1,\n",
       "   'x': 0.40703123807907104,\n",
       "   'y': 0.37291666865348816,\n",
       "   'width': 0.07343749701976776,\n",
       "   'height': 0.13333334028720856,\n",
       "   'confidence': 0.8370771408081055},\n",
       "  {'class_id': 2,\n",
       "   'x': 0.5101562738418579,\n",
       "   'y': 0.7447916865348816,\n",
       "   'width': 0.08906249701976776,\n",
       "   'height': 0.18541666865348816,\n",
       "   'confidence': 0.8590912818908691},\n",
       "  {'class_id': 1,\n",
       "   'x': 0.2945312559604645,\n",
       "   'y': 0.6666666865348816,\n",
       "   'width': 0.08281250298023224,\n",
       "   'height': 0.1458333283662796,\n",
       "   'confidence': 0.9108979105949402}],\n",
       " [{'class_id': 4,\n",
       "   'x': 0.3804687559604645,\n",
       "   'y': 0.684374988079071,\n",
       "   'width': 0.08281250298023224,\n",
       "   'height': 0.17291666567325592,\n",
       "   'confidence': 0.3524661958217621},\n",
       "  {'class_id': 3,\n",
       "   'x': 0.596875011920929,\n",
       "   'y': 0.746874988079071,\n",
       "   'width': 0.08749999850988388,\n",
       "   'height': 0.16875000298023224,\n",
       "   'confidence': 0.6998907923698425},\n",
       "  {'class_id': 2,\n",
       "   'x': 0.5101562738418579,\n",
       "   'y': 0.7583333253860474,\n",
       "   'width': 0.0859375,\n",
       "   'height': 0.22083333134651184,\n",
       "   'confidence': 0.7339903116226196},\n",
       "  {'class_id': 0,\n",
       "   'x': 0.3382812440395355,\n",
       "   'y': 0.3635416626930237,\n",
       "   'width': 0.07343749701976776,\n",
       "   'height': 0.13958333432674408,\n",
       "   'confidence': 0.7976427674293518},\n",
       "  {'class_id': 1,\n",
       "   'x': 0.40546876192092896,\n",
       "   'y': 0.37291666865348816,\n",
       "   'width': 0.07343749701976776,\n",
       "   'height': 0.13333334028720856,\n",
       "   'confidence': 0.9070711135864258},\n",
       "  {'class_id': 1,\n",
       "   'x': 0.29609376192092896,\n",
       "   'y': 0.671875,\n",
       "   'width': 0.07968749850988388,\n",
       "   'height': 0.14791665971279144,\n",
       "   'confidence': 0.9220471382141113}],\n",
       " [{'class_id': 4,\n",
       "   'x': 0.3851562440395355,\n",
       "   'y': 0.699999988079071,\n",
       "   'width': 0.08906249701976776,\n",
       "   'height': 0.19166666269302368,\n",
       "   'confidence': 0.6211552023887634},\n",
       "  {'class_id': 3,\n",
       "   'x': 0.5953124761581421,\n",
       "   'y': 0.7447916865348816,\n",
       "   'width': 0.08749999850988388,\n",
       "   'height': 0.16875000298023224,\n",
       "   'confidence': 0.741838812828064},\n",
       "  {'class_id': 0,\n",
       "   'x': 0.34296876192092896,\n",
       "   'y': 0.3635416626930237,\n",
       "   'width': 0.07343749701976776,\n",
       "   'height': 0.13958333432674408,\n",
       "   'confidence': 0.8085684180259705},\n",
       "  {'class_id': 2,\n",
       "   'x': 0.5101562738418579,\n",
       "   'y': 0.746874988079071,\n",
       "   'width': 0.0859375,\n",
       "   'height': 0.1979166716337204,\n",
       "   'confidence': 0.8277846574783325},\n",
       "  {'class_id': 1,\n",
       "   'x': 0.40703123807907104,\n",
       "   'y': 0.37291666865348816,\n",
       "   'width': 0.07343749701976776,\n",
       "   'height': 0.13333334028720856,\n",
       "   'confidence': 0.8830307126045227},\n",
       "  {'class_id': 1,\n",
       "   'x': 0.30156248807907104,\n",
       "   'y': 0.6760416626930237,\n",
       "   'width': 0.078125,\n",
       "   'height': 0.14791665971279144,\n",
       "   'confidence': 0.9246500134468079}]]"
      ]
     },
     "execution_count": 172,
     "metadata": {},
     "output_type": "execute_result"
    }
   ],
   "source": [
    "data = [ info['detections'] for info in images]\n",
    "data"
   ]
  },
  {
   "cell_type": "code",
   "execution_count": 173,
   "metadata": {},
   "outputs": [
    {
     "data": {
      "text/plain": [
       "(0.0, 1.0, 0.0, 1.0)"
      ]
     },
     "execution_count": 173,
     "metadata": {},
     "output_type": "execute_result"
    },
    {
     "data": {
      "image/png": "[encoded data removed]",
      "text/plain": [
       "<Figure size 640x480 with 1 Axes>"
      ]
     },
     "metadata": {},
     "output_type": "display_data"
    }
   ],
   "source": [
    "for imagelabels in data:\n",
    "    plt.plot([label['x'] for label in imagelabels], [label['y'] for label in imagelabels], 'o')\n",
    "plt.axis((0, 1, 0, 1))"
   ]
  },
  {
   "cell_type": "code",
   "execution_count": 174,
   "metadata": {},
   "outputs": [
    {
     "data": {
      "text/plain": [
       "[{'class_id': 4,\n",
       "  'x': 0.3804687559604645,\n",
       "  'y': 0.684374988079071,\n",
       "  'width': 0.08281250298023224,\n",
       "  'height': 0.17291666567325592,\n",
       "  'confidence': 0.3524661958217621},\n",
       " {'class_id': 3,\n",
       "  'x': 0.596875011920929,\n",
       "  'y': 0.746874988079071,\n",
       "  'width': 0.08749999850988388,\n",
       "  'height': 0.16875000298023224,\n",
       "  'confidence': 0.6998907923698425},\n",
       " {'class_id': 2,\n",
       "  'x': 0.5101562738418579,\n",
       "  'y': 0.7583333253860474,\n",
       "  'width': 0.0859375,\n",
       "  'height': 0.22083333134651184,\n",
       "  'confidence': 0.7339903116226196},\n",
       " {'class_id': 0,\n",
       "  'x': 0.3382812440395355,\n",
       "  'y': 0.3635416626930237,\n",
       "  'width': 0.07343749701976776,\n",
       "  'height': 0.13958333432674408,\n",
       "  'confidence': 0.7976427674293518},\n",
       " {'class_id': 1,\n",
       "  'x': 0.40546876192092896,\n",
       "  'y': 0.37291666865348816,\n",
       "  'width': 0.07343749701976776,\n",
       "  'height': 0.13333334028720856,\n",
       "  'confidence': 0.9070711135864258},\n",
       " {'class_id': 1,\n",
       "  'x': 0.29609376192092896,\n",
       "  'y': 0.671875,\n",
       "  'width': 0.07968749850988388,\n",
       "  'height': 0.14791665971279144,\n",
       "  'confidence': 0.9220471382141113}]"
      ]
     },
     "execution_count": 174,
     "metadata": {},
     "output_type": "execute_result"
    }
   ],
   "source": [
    "data_x = data[1]\n",
    "data_x"
   ]
  },
  {
   "cell_type": "code",
   "execution_count": 175,
   "metadata": {},
   "outputs": [
    {
     "data": {
      "text/plain": [
       "{0: {'center': (0.3804687559604645, 0.684374988079071), 'cluster': -1},\n",
       " 1: {'center': (0.596875011920929, 0.746874988079071), 'cluster': -1},\n",
       " 2: {'center': (0.5101562738418579, 0.7583333253860474), 'cluster': -1},\n",
       " 3: {'center': (0.3382812440395355, 0.3635416626930237), 'cluster': -1},\n",
       " 4: {'center': (0.40546876192092896, 0.37291666865348816), 'cluster': -1},\n",
       " 5: {'center': (0.29609376192092896, 0.671875), 'cluster': -1}}"
      ]
     },
     "execution_count": 175,
     "metadata": {},
     "output_type": "execute_result"
    }
   ],
   "source": [
    "poses = dict(enumerate([{\"center\": (i['x'], i['y']), \"cluster\": -1} for i in data_x]))\n",
    "poses"
   ]
  },
  {
   "cell_type": "code",
   "execution_count": 176,
   "metadata": {},
   "outputs": [],
   "source": [
    "def calDistPoint(pos1, pos2):\n",
    "    return math.sqrt((pos1[0] - pos2[0])**2 + (pos1[1] - pos2[1])**2)"
   ]
  },
  {
   "cell_type": "code",
   "execution_count": 177,
   "metadata": {},
   "outputs": [
    {
     "data": {
      "text/plain": [
       "0.19652899243600966"
      ]
     },
     "execution_count": 177,
     "metadata": {},
     "output_type": "execute_result"
    }
   ],
   "source": [
    "calDistPoint((0.641406238079071, 0.5760416388511658), (0.4781250059604645, 0.46666666865348816))"
   ]
  },
  {
   "cell_type": "code",
   "execution_count": 178,
   "metadata": {},
   "outputs": [
    {
     "data": {
      "text/plain": [
       "{0: {'center': (0.8533517134859953, 0.86337313852237), 'points': []},\n",
       " 1: {'center': (0.8106627924147108, 0.683847628729502), 'points': []},\n",
       " 2: {'center': (0.27030133968059766, 0.7745937564425094), 'points': []}}"
      ]
     },
     "execution_count": 178,
     "metadata": {},
     "output_type": "execute_result"
    }
   ],
   "source": [
    "clusters = dict()\n",
    "meansPoses = [\n",
    "    (random.uniform(0, 1), random.uniform(0, 1)) for _ in range(N)\n",
    "]\n",
    "for idx in range(N):\n",
    "    cluster = {\n",
    "        'center': (random.uniform(0, 1), random.uniform(0, 1)),\n",
    "        'points': []\n",
    "    }\n",
    "    clusters[idx] = cluster\n",
    "clusters"
   ]
  },
  {
   "cell_type": "code",
   "execution_count": 179,
   "metadata": {},
   "outputs": [],
   "source": [
    "#Implementing E step \n",
    "def assign_clusters(X, clusters):\n",
    "    for idx in range(len(X)):\n",
    "        dist = []\n",
    "         \n",
    "        curr_point = X[idx]\n",
    "        for i in range(N):\n",
    "            dis = calDistPoint(curr_point['center'], clusters[i]['center'])\n",
    "            dist.append((i, dis))\n",
    "        # curr_cluster = np.argmin(dist)\n",
    "        curr_cluster = min(dist, key=lambda x: x[1])[0]\n",
    "        clusters[curr_cluster]['points'].append(curr_point)\n",
    "    return clusters"
   ]
  },
  {
   "cell_type": "code",
   "execution_count": 180,
   "metadata": {},
   "outputs": [],
   "source": [
    "#Implementing the M-Step\n",
    "def update_clusters(X, clusters):\n",
    "    for i in range(N):\n",
    "        # print([points['center'] for points in clusters[i]['points']])\n",
    "        points = np.array([[points['center'][0], points['center'][1]] for points in clusters[i]['points']])\n",
    "        # print(points)\n",
    "        if len(points) > 0:\n",
    "            new_center = list(points.mean(axis =0))\n",
    "            print(f'{clusters[i][\"center\"]=}')\n",
    "            clusters[i]['center'] = new_center\n",
    "            print(f'{new_center=}')\n",
    "             \n",
    "            clusters[i]['points'] = []\n",
    "    return clusters"
   ]
  },
  {
   "cell_type": "code",
   "execution_count": 181,
   "metadata": {},
   "outputs": [
    {
     "data": {
      "text/plain": [
       "(0.0, 1.0, 0.0, 1.0)"
      ]
     },
     "execution_count": 181,
     "metadata": {},
     "output_type": "execute_result"
    },
    {
     "data": {
      "image/png": "[encoded data removed]",
      "text/plain": [
       "<Figure size 640x480 with 1 Axes>"
      ]
     },
     "metadata": {},
     "output_type": "display_data"
    }
   ],
   "source": [
    "for label in data_x:\n",
    "    plt.plot(label['x'], label['y'], 'bo')\n",
    "plt.plot([clusters[k][\"center\"][0] for k in clusters], [clusters[k][\"center\"][1] for k in clusters], 'ro')\n",
    "plt.axis((0, 1, 0, 1))"
   ]
  },
  {
   "cell_type": "code",
   "execution_count": 182,
   "metadata": {},
   "outputs": [],
   "source": [
    "def pred_cluster(X, clusters):\n",
    "    pred = []\n",
    "    for i in range(len(X)):\n",
    "        dist = []\n",
    "        for j in range(N):\n",
    "            dist.append(calDistPoint(X[i]['center'],clusters[j]['center']))\n",
    "        pred.append(np.argmin(dist))\n",
    "    return pred"
   ]
  },
  {
   "cell_type": "code",
   "execution_count": 189,
   "metadata": {},
   "outputs": [
    {
     "name": "stdout",
     "output_type": "stream",
     "text": [
      "clusters[i][\"center\"]=[0.5535156428813934, 0.7526041567325592]\n",
      "new_center=[0.5535156428813934, 0.7526041567325592]\n",
      "clusters[i][\"center\"]=[0.3550781309604645, 0.5231770798563957]\n",
      "new_center=[0.3550781309604645, 0.5231770798563957]\n"
     ]
    },
    {
     "data": {
      "text/plain": [
       "[2, 1, 1, 2, 2, 2]"
      ]
     },
     "execution_count": 189,
     "metadata": {},
     "output_type": "execute_result"
    }
   ],
   "source": [
    "clusters = assign_clusters(poses,clusters)\n",
    "clusters = update_clusters(poses,clusters)\n",
    "pred = pred_cluster(poses,clusters)\n",
    "pred"
   ]
  },
  {
   "cell_type": "code",
   "execution_count": 190,
   "metadata": {},
   "outputs": [
    {
     "data": {
      "text/plain": [
       "{0: {'center': (0.8533517134859953, 0.86337313852237), 'points': []},\n",
       " 1: {'center': [0.5535156428813934, 0.7526041567325592], 'points': []},\n",
       " 2: {'center': [0.3550781309604645, 0.5231770798563957], 'points': []}}"
      ]
     },
     "execution_count": 190,
     "metadata": {},
     "output_type": "execute_result"
    }
   ],
   "source": [
    "clusters"
   ]
  },
  {
   "cell_type": "code",
   "execution_count": 191,
   "metadata": {},
   "outputs": [
    {
     "data": {
      "text/plain": [
       "(0.0, 1.0, 0.0, 1.0)"
      ]
     },
     "execution_count": 191,
     "metadata": {},
     "output_type": "execute_result"
    },
    {
     "data": {
      "image/png": "[encoded data removed]",
      "text/plain": [
       "<Figure size 640x480 with 1 Axes>"
      ]
     },
     "metadata": {},
     "output_type": "display_data"
    }
   ],
   "source": [
    "for label in data_x:\n",
    "    plt.plot(label['x'], label['y'], 'bo')\n",
    "plt.plot([clusters[k][\"center\"][0] for k in clusters], [clusters[k][\"center\"][1] for k in clusters], 'ro')\n",
    "plt.axis((0, 1, 0, 1))"
   ]
  },
  {
   "cell_type": "code",
   "execution_count": null,
   "metadata": {},
   "outputs": [],
   "source": []
  }
 ],
 "metadata": {
  "kernelspec": {
   "display_name": "Python 3",
   "language": "python",
   "name": "python3"
  },
  "language_info": {
   "codemirror_mode": {
    "name": "ipython",
    "version": 3
   },
   "file_extension": ".py",
   "mimetype": "text/x-python",
   "name": "python",
   "nbconvert_exporter": "python",
   "pygments_lexer": "ipython3",
   "version": "3.10.11"
  }
 },
 "nbformat": 4,
 "nbformat_minor": 2
}
